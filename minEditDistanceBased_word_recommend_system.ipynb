{
  "nbformat": 4,
  "nbformat_minor": 0,
  "metadata": {
    "colab": {
      "provenance": []
    },
    "kernelspec": {
      "name": "python3",
      "display_name": "Python 3"
    },
    "language_info": {
      "name": "python"
    }
  },
  "cells": [
    {
      "cell_type": "code",
      "execution_count": null,
      "metadata": {
        "id": "_UuKXr6oeghc"
      },
      "outputs": [],
      "source": [
        "# 사전을 만들어서 최소편집거리로 추천해주는 함수 \n",
        "# 단어 리스트 만들기\n",
        "# 최소편집거리 알고리즘을 통해 리스트의 단어와 입력받은 단어의 편집거리를 구함\n",
        "# 입력된 단어와 리스트의 단어들 사이의 편집거리가 작은 단어 출력\n",
        "\n",
        "# words_list = ['abate', 'belligerent', 'capricious', 'deleterious', 'ephemeral', 'frivolous', 'galvanize', 'histrionic', 'inscrutable', 'juxtapose', 'kinder', 'luminous', 'mitigate', 'nefarious', 'oblivion', 'pensive', 'quell', 'rancor', 'serendipity', 'taciturn', 'ubiquitous', 'vacillate', 'wistful', 'xenophobia', 'yielding', 'zealot', 'amicable', 'benevolent', 'conscientious', 'diligent', 'eclectic', 'fastidious', 'gregarious', 'hospitable', 'impartial', 'judicious', 'keen', 'lively', 'magnanimous', 'nurturing', 'obstinate', 'pernicious', 'quirky', 'resourceful', 'sagacious', 'tenacious', 'unassuming', 'vibrant', 'whimsical', 'xenial', 'youthful', 'zany', 'ambivalent', 'brash', 'complacent', 'dubious', 'evasive', 'fanatical', 'grandiose', 'haughty', 'impetuous', 'jealous', 'kindle', 'lethargic', 'mediocre', 'nonchalant', 'obtuse', 'pedantic', 'querulous', 'resilient']    # 단어 리스트\n",
        "f = open(\"./englishwords.txt\", 'r')\n",
        "line = f.readlines()\n",
        "f.close()\n",
        "\n",
        "words_list = []\n",
        "for each in line:\n",
        "  words_list.append(each.replace(\"\\n\", ''))\n",
        "print(words_list)\n",
        "\n",
        "user_word = input()   # 단어 입력받기\n",
        "\n",
        "minEditDistance_list = []   # 편집거리 따로 리스트를 만듦\n",
        "\n",
        "for word in words_list:    # 단어 리스트를 반복문으로 돌면서 입력받은 단어와 리스트에 있는 단어 사이의 편집거리 계산\n",
        "  len1 = len(user_word)\n",
        "  len2 = len(word)\n",
        "\n",
        "  # dp = [[0] * (len2 + 1) for j in range(len1 + 1)]\n",
        "\n",
        "  table = []    # user_word와 word의 table 생성\n",
        "  for i in range(len1 + 1):\n",
        "    row = []\n",
        "    for j in range(len2 + 1):\n",
        "      row.append(0)\n",
        "    table.append(row)\n",
        "# user_word와 word/ 리스트 첫번째 줄에 1 ~ len* + 1 입력   \n",
        "  for i in range(1, len1 + 1):\n",
        "    table[i][0] = i\n",
        "  for i in range(1, len2 + 1):\n",
        "    table[0][i] = i\n",
        "# 알고리즘\n",
        "# [1, 1]부터 시작\n",
        "  for i in range(1, len1 + 1):\n",
        "    for j in range(1, len2 + 1):\n",
        "      if user_word[i-1] == word[j-1]:\n",
        "        table[i][j] = table[i-1][j-1]\n",
        "      else:\n",
        "        table[i][j] = min(table[i-1][j], table[i][j-1], table[i-1][j-1]) + 1\n",
        "\n",
        "  minEditDistance_list.append(table[len1][len2])\n",
        "\n",
        "\n",
        "# 단어 리스트와 편집거리 리스트를 딕셔너리로 만듦 (단어:편집거리) https://qna.programmers.co.kr/questions/8551/%ED%8C%8C%EC%9D%B4%EC%8D%AC-%EB%91%90%EA%B0%9C%EC%9D%98-%EB%A6%AC%EC%8A%A4%ED%8A%B8%EB%A5%BC-%EB%94%95%EC%85%94%EB%84%88%EB%A6%AC%EC%9D%98-%ED%82%A4key%EC%99%80-%EB%B0%B8%EB%A5%98value-%EA%B0%92%EC%9C%BC%EB%A1%9C-%EB%84%A3%EC%9D%84-%EC%88%98-%EC%9E%88%EB%82%98%EC%9A%94\n",
        "dic = {name:value for name, value in zip(words_list, minEditDistance_list)}\n",
        "\n",
        "minEditDistance_list.sort()   # 편집거리를 sort함\n",
        "\n",
        "# minED_list = minEditDistance_list\n",
        "\n",
        "minEditDistance_set = set(minEditDistance_list)\n",
        "\n",
        "minED_list = list(minEditDistance_set)    # 리스트를 튜플 -> 리스트 변환(중복 제거)\n",
        "\n",
        "min_word_list = []\n",
        "\n",
        "# 최소편집거리가 제일 작은 두개의 인덱스를 이용해 딕셔너리 key값 출력\n",
        "for i in range(0, 2): \n",
        "  for key,value in dic.items():\n",
        "    if value == minED_list[i]:\n",
        "      min_word_list.append(key)\n",
        "print(min_word_list)"
      ]
    }
  ]
}